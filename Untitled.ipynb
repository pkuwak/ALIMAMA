{
 "cells": [
  {
   "cell_type": "code",
   "execution_count": 2,
   "metadata": {
    "collapsed": false
   },
   "outputs": [],
   "source": [
    "import pandas as pd"
   ]
  },
  {
   "cell_type": "code",
   "execution_count": 3,
   "metadata": {
    "collapsed": true
   },
   "outputs": [],
   "source": [
    "test = pd.read_csv('./data/round1_ijcai_18_test_a_20180301.txt',sep=' ')"
   ]
  },
  {
   "cell_type": "code",
   "execution_count": 8,
   "metadata": {
    "collapsed": true
   },
   "outputs": [],
   "source": [
    "itemC = test['item_category_list']"
   ]
  },
  {
   "cell_type": "code",
   "execution_count": 9,
   "metadata": {
    "collapsed": false
   },
   "outputs": [
    {
     "data": {
      "text/plain": [
       "3"
      ]
     },
     "execution_count": 9,
     "metadata": {},
     "output_type": "execute_result"
    }
   ],
   "source": [
    "itemC = itemC.apply(lambda x: x.split(';')).apply(len).max()\n",
    "itemC"
   ]
  },
  {
   "cell_type": "code",
   "execution_count": 12,
   "metadata": {
    "collapsed": false
   },
   "outputs": [
    {
     "data": {
      "text/plain": [
       "0        (1, 22, 28)\n",
       "1         (1, 16, 7)\n",
       "2        (1, 14, 50)\n",
       "3        (1, 15, 35)\n",
       "4         (1, 15, 4)\n",
       "5         (1, 16, 2)\n",
       "6        (1, 11, 35)\n",
       "7        (1, 13, 11)\n",
       "8        (1, 11, 28)\n",
       "9         (1, 14, 9)\n",
       "10        (1, 17, 4)\n",
       "11        (1, 8, 57)\n",
       "12       (1, 21, 57)\n",
       "13       (1, 12, 31)\n",
       "14       (1, 22, 35)\n",
       "15       (1, 12, 38)\n",
       "16       (1, 13, 11)\n",
       "17       (1, 18, 22)\n",
       "18       (1, 20, 58)\n",
       "19       (1, 20, 10)\n",
       "20       (1, 17, 46)\n",
       "21       (1, 20, 51)\n",
       "22       (1, 14, 30)\n",
       "23       (1, 14, 18)\n",
       "24        (1, 23, 0)\n",
       "25       (1, 23, 32)\n",
       "26       (1, 11, 16)\n",
       "27       (1, 15, 22)\n",
       "28       (1, 15, 44)\n",
       "29        (1, 21, 4)\n",
       "            ...     \n",
       "18341    (1, 18, 22)\n",
       "18342     (1, 14, 8)\n",
       "18343    (1, 15, 58)\n",
       "18344    (1, 15, 52)\n",
       "18345    (1, 14, 30)\n",
       "18346    (1, 21, 48)\n",
       "18347    (1, 20, 15)\n",
       "18348     (1, 16, 7)\n",
       "18349    (1, 17, 29)\n",
       "18350     (1, 10, 3)\n",
       "18351     (1, 15, 6)\n",
       "18352    (1, 14, 23)\n",
       "18353    (1, 14, 26)\n",
       "18354     (1, 15, 9)\n",
       "18355    (1, 18, 41)\n",
       "18356    (1, 14, 41)\n",
       "18357     (1, 8, 19)\n",
       "18358    (1, 10, 42)\n",
       "18359    (1, 12, 29)\n",
       "18360    (1, 13, 16)\n",
       "18361     (1, 8, 16)\n",
       "18362    (1, 13, 35)\n",
       "18363    (1, 14, 37)\n",
       "18364    (1, 13, 30)\n",
       "18365    (1, 19, 49)\n",
       "18366    (1, 19, 24)\n",
       "18367     (1, 18, 7)\n",
       "18368    (1, 16, 30)\n",
       "18369    (1, 14, 36)\n",
       "18370     (1, 8, 28)\n",
       "Name: context_timestamp, Length: 18371, dtype: object"
      ]
     },
     "execution_count": 12,
     "metadata": {},
     "output_type": "execute_result"
    }
   ],
   "source": [
    "import time\n",
    "def timestamp_day_hour(stamp):\n",
    "    struct_time = time.localtime(stamp)\n",
    "    week_day = struct_time.tm_wday\n",
    "    hour = struct_time.tm_hour\n",
    "    minute = struct_time.tm_min\n",
    "    return week_day, hour, minute\n",
    "\n",
    "test.context_timestamp.apply(timestamp_day_hour)\n"
   ]
  },
  {
   "cell_type": "code",
   "execution_count": 14,
   "metadata": {
    "collapsed": false
   },
   "outputs": [
    {
     "data": {
      "text/plain": [
       "['123456']"
      ]
     },
     "execution_count": 14,
     "metadata": {},
     "output_type": "execute_result"
    }
   ],
   "source": [
    "s='123456'\n",
    "s.split()"
   ]
  }
 ],
 "metadata": {
  "anaconda-cloud": {},
  "kernelspec": {
   "display_name": "Python [conda env:Anaconda3]",
   "language": "python",
   "name": "conda-env-Anaconda3-py"
  },
  "language_info": {
   "codemirror_mode": {
    "name": "ipython",
    "version": 3
   },
   "file_extension": ".py",
   "mimetype": "text/x-python",
   "name": "python",
   "nbconvert_exporter": "python",
   "pygments_lexer": "ipython3",
   "version": "3.5.2"
  }
 },
 "nbformat": 4,
 "nbformat_minor": 2
}
